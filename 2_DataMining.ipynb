{
 "cells": [
  {
   "cell_type": "code",
   "execution_count": 4,
   "metadata": {},
   "outputs": [],
   "source": [
    "import pandas as pd\n",
    "\n",
    "\n",
    "\n",
    "test = pd.read_csv('data/Test.csv')\n",
    "train = pd.read_csv('data/train.csv')\n",
    "\n",
    "df = pd.concat([test, train])"
   ]
  },
  {
   "cell_type": "code",
   "execution_count": 6,
   "metadata": {},
   "outputs": [],
   "source": [
    "# Define the path to the folder in your repository\n",
    "folder_path = 'data/'\n",
    "\n",
    "# Define the file name and extension\n",
    "file_name = 'data.csv'\n",
    "\n",
    "# Concatenate the folder path and file name\n",
    "file_path = f'{folder_path}/{file_name}'\n",
    "\n",
    "# Export the DataFrame to the specified folder\n",
    "df.to_csv(file_path, index=False)\n"
   ]
  }
 ],
 "metadata": {
  "kernelspec": {
   "display_name": ".venv",
   "language": "python",
   "name": "python3"
  },
  "language_info": {
   "codemirror_mode": {
    "name": "ipython",
    "version": 3
   },
   "file_extension": ".py",
   "mimetype": "text/x-python",
   "name": "python",
   "nbconvert_exporter": "python",
   "pygments_lexer": "ipython3",
   "version": "3.11.3"
  },
  "orig_nbformat": 4
 },
 "nbformat": 4,
 "nbformat_minor": 2
}
