{
 "cells": [
  {
   "cell_type": "code",
   "execution_count": 8,
   "metadata": {},
   "outputs": [],
   "source": [
    "import pandas as pd\n",
    "import numpy as np\n",
    "import matplotlib.pyplot as plt\n",
    "import seaborn as sns\n",
    "import plotly.express as px\n",
    "import plotly.graph_objects as go\n",
    "import imblearn\n",
    "from scipy.stats import chi2_contingency\n",
    "from matplotlib.ticker import PercentFormatter\n",
    "from sklearn.preprocessing import StandardScaler\n",
    "from sklearn.model_selection import train_test_split, GridSearchCV\n",
    "from sklearn.neighbors import KNeighborsClassifier\n",
    "from sklearn.metrics import classification_report\n",
    "from sklearn.feature_selection import mutual_info_classif\n",
    "from imblearn.over_sampling import SMOTE\n",
    "from imblearn.under_sampling import RandomUnderSampler\n",
    "from sklearn.metrics import accuracy_score\n",
    "from scipy import stats\n",
    "import heapq"
   ]
  },
  {
   "cell_type": "code",
   "execution_count": 3,
   "metadata": {},
   "outputs": [],
   "source": [
    "df = pd.read_csv('data/train.csv')"
   ]
  },
  {
   "cell_type": "code",
   "execution_count": 4,
   "metadata": {},
   "outputs": [
    {
     "data": {
      "text/plain": [
       "Index(['country', 'year', 'uniqueid', 'bank_account', 'location_type',\n",
       "       'cellphone_access', 'household_size', 'age_of_respondent',\n",
       "       'gender_of_respondent', 'relationship_with_head', 'marital_status',\n",
       "       'education_level', 'job_type'],\n",
       "      dtype='object')"
      ]
     },
     "execution_count": 4,
     "metadata": {},
     "output_type": "execute_result"
    }
   ],
   "source": [
    "df.columns"
   ]
  },
  {
   "cell_type": "code",
   "execution_count": 5,
   "metadata": {},
   "outputs": [
    {
     "name": "stdout",
     "output_type": "stream",
     "text": [
      "<class 'pandas.core.frame.DataFrame'>\n",
      "RangeIndex: 23524 entries, 0 to 23523\n",
      "Data columns (total 13 columns):\n",
      " #   Column                  Non-Null Count  Dtype \n",
      "---  ------                  --------------  ----- \n",
      " 0   country                 23524 non-null  object\n",
      " 1   year                    23524 non-null  int64 \n",
      " 2   uniqueid                23524 non-null  object\n",
      " 3   bank_account            23524 non-null  object\n",
      " 4   location_type           23524 non-null  object\n",
      " 5   cellphone_access        23524 non-null  object\n",
      " 6   household_size          23524 non-null  int64 \n",
      " 7   age_of_respondent       23524 non-null  int64 \n",
      " 8   gender_of_respondent    23524 non-null  object\n",
      " 9   relationship_with_head  23524 non-null  object\n",
      " 10  marital_status          23524 non-null  object\n",
      " 11  education_level         23524 non-null  object\n",
      " 12  job_type                23524 non-null  object\n",
      "dtypes: int64(3), object(10)\n",
      "memory usage: 2.3+ MB\n"
     ]
    }
   ],
   "source": [
    "df.info()"
   ]
  },
  {
   "attachments": {},
   "cell_type": "markdown",
   "metadata": {},
   "source": [
    "### Chi-Square Test\n",
    "\n",
    "- If the p-value is less than or equal to 0.05 , it is typically considered statistically significant\n",
    "- If the p-value is greater than 0.05, it is generally considered not statistically significant\n"
   ]
  },
  {
   "cell_type": "code",
   "execution_count": 7,
   "metadata": {},
   "outputs": [
    {
     "name": "stdout",
     "output_type": "stream",
     "text": [
      "Feature: education_level, p-value: 0.0\n",
      "Feature: job_type, p-value: 0.0\n",
      "Feature: cellphone_access, p-value: 1.3592541989722424e-226\n",
      "Feature: country, p-value: 2.5290257400600255e-181\n",
      "Feature: gender_of_respondent, p-value: 3.884875437093037e-72\n",
      "Feature: relationship_with_head, p-value: 9.9629019270655e-69\n",
      "Feature: location_type, p-value: 9.218844615938627e-41\n",
      "Feature: marital_status, p-value: 1.03957918709173e-40\n"
     ]
    }
   ],
   "source": [
    "# Select the categorical columns\n",
    "categorical_columns = ['country', 'location_type', 'cellphone_access',\n",
    "                       'gender_of_respondent', 'relationship_with_head',\n",
    "                       'marital_status', 'education_level', 'job_type']\n",
    "\n",
    "# Perform chi-square test for each categorical feature\n",
    "results = []\n",
    "for feature in categorical_columns:\n",
    "    contingency_table = pd.crosstab(df[feature], df['bank_account'])\n",
    "    _, p_value, _, _ = chi2_contingency(contingency_table)\n",
    "    results.append((feature, p_value))\n",
    "\n",
    "# Sort the results by p-value in ascending order\n",
    "results.sort(key=lambda x: x[1])\n",
    "\n",
    "# Print the features and their p-values\n",
    "for feature, p_value in results:\n",
    "    print(f\"Feature: {feature}, p-value: {p_value}\")"
   ]
  },
  {
   "attachments": {},
   "cell_type": "markdown",
   "metadata": {},
   "source": [
    "### Information Gain/Mutual Information"
   ]
  },
  {
   "cell_type": "code",
   "execution_count": 17,
   "metadata": {},
   "outputs": [
    {
     "name": "stdout",
     "output_type": "stream",
     "text": [
      "                                            Feature  Mutual Information\n",
      "7                              cellphone_access_Yes            0.033895\n",
      "6                               cellphone_access_No            0.030739\n",
      "30               job_type_Formally employed Private            0.020597\n",
      "0                                     country_Kenya            0.018550\n",
      "25               education_level_Tertiary education            0.018420\n",
      "29            job_type_Formally employed Government            0.018389\n",
      "26  education_level_Vocational/Specialised training            0.016744\n",
      "23                education_level_Primary education            0.016193\n",
      "21              education_level_No formal education            0.013662\n",
      "32                     job_type_Informally employed            0.011679\n",
      "9                         gender_of_respondent_Male            0.010986\n",
      "11         relationship_with_head_Head of Household            0.010043\n",
      "4                               location_type_Rural            0.008299\n",
      "24              education_level_Secondary education            0.008194\n",
      "8                       gender_of_respondent_Female            0.008135\n",
      "28                     job_type_Farming and Fishing            0.005026\n",
      "20                           marital_status_Widowed            0.004827\n",
      "2                                  country_Tanzania            0.003619\n",
      "5                               location_type_Urban            0.003251\n",
      "14                    relationship_with_head_Parent            0.002829\n",
      "18           marital_status_Married/Living together            0.002593\n",
      "17                         marital_status_Dont know            0.002584\n",
      "1                                    country_Rwanda            0.002214\n",
      "33                               job_type_No Income            0.001862\n",
      "36                           job_type_Self employed            0.001610\n",
      "35                    job_type_Remittance Dependent            0.000868\n",
      "13            relationship_with_head_Other relative            0.000818\n",
      "15                    relationship_with_head_Spouse            0.000782\n",
      "12       relationship_with_head_Other non-relatives            0.000702\n",
      "27              job_type_Dont Know/Refuse to answer            0.000369\n",
      "3                                    country_Uganda            0.000130\n",
      "16                marital_status_Divorced/Seperated            0.000049\n",
      "19              marital_status_Single/Never Married            0.000000\n",
      "22              education_level_Other/Dont know/RTA            0.000000\n",
      "10                     relationship_with_head_Child            0.000000\n",
      "31                    job_type_Government Dependent            0.000000\n",
      "34                            job_type_Other Income            0.000000\n"
     ]
    }
   ],
   "source": [
    "import pandas as pd\n",
    "from sklearn.feature_selection import mutual_info_classif\n",
    "\n",
    "# Select the categorical columns\n",
    "categorical_columns = ['country', 'location_type', 'cellphone_access',\n",
    "                       'gender_of_respondent', 'relationship_with_head',\n",
    "                       'marital_status', 'education_level', 'job_type']\n",
    "\n",
    "# Perform one-hot encoding on the categorical features\n",
    "encoded_df = pd.get_dummies(df[categorical_columns])\n",
    "\n",
    "# Compute the mutual information for each categorical feature\n",
    "mutual_info = mutual_info_classif(encoded_df, df['bank_account'])\n",
    "\n",
    "# Create a DataFrame with feature names and mutual information scores\n",
    "feature_scores = pd.DataFrame({'Feature': encoded_df.columns, 'Mutual Information': mutual_info})\n",
    "\n",
    "# Sort the features by mutual information scores in descending order\n",
    "feature_scores = feature_scores.sort_values('Mutual Information', ascending=False)\n",
    "\n",
    "# Print the feature scores\n",
    "print(feature_scores)"
   ]
  },
  {
   "attachments": {},
   "cell_type": "markdown",
   "metadata": {},
   "source": [
    "### Feature Importance in Decision Trees"
   ]
  },
  {
   "cell_type": "code",
   "execution_count": 10,
   "metadata": {},
   "outputs": [
    {
     "name": "stdout",
     "output_type": "stream",
     "text": [
      "                                            Feature  Importance\n",
      "30               job_type_Formally employed Private    0.082109\n",
      "25               education_level_Tertiary education    0.081191\n",
      "29            job_type_Formally employed Government    0.066830\n",
      "26  education_level_Vocational/Specialised training    0.061796\n",
      "0                                     country_Kenya    0.049113\n",
      "23                education_level_Primary education    0.044767\n",
      "6                               cellphone_access_No    0.036793\n",
      "11         relationship_with_head_Head of Household    0.034301\n",
      "24              education_level_Secondary education    0.033562\n",
      "2                                  country_Tanzania    0.032810\n",
      "7                              cellphone_access_Yes    0.031684\n",
      "36                           job_type_Self employed    0.030874\n",
      "4                               location_type_Rural    0.030295\n",
      "5                               location_type_Urban    0.029175\n",
      "21              education_level_No formal education    0.028964\n",
      "18           marital_status_Married/Living together    0.027519\n",
      "32                     job_type_Informally employed    0.027416\n",
      "19              marital_status_Single/Never Married    0.026063\n",
      "1                                    country_Rwanda    0.024733\n",
      "9                         gender_of_respondent_Male    0.022323\n",
      "35                    job_type_Remittance Dependent    0.021491\n",
      "8                       gender_of_respondent_Female    0.019658\n",
      "28                     job_type_Farming and Fishing    0.018579\n",
      "34                            job_type_Other Income    0.017659\n",
      "16                marital_status_Divorced/Seperated    0.017012\n",
      "3                                    country_Uganda    0.015983\n",
      "10                     relationship_with_head_Child    0.015761\n",
      "20                           marital_status_Widowed    0.014418\n",
      "15                    relationship_with_head_Spouse    0.012634\n",
      "31                    job_type_Government Dependent    0.010806\n",
      "14                    relationship_with_head_Parent    0.009996\n",
      "13            relationship_with_head_Other relative    0.009390\n",
      "12       relationship_with_head_Other non-relatives    0.005098\n",
      "33                               job_type_No Income    0.003882\n",
      "27              job_type_Dont Know/Refuse to answer    0.003051\n",
      "22              education_level_Other/Dont know/RTA    0.001883\n",
      "17                         marital_status_Dont know    0.000380\n"
     ]
    }
   ],
   "source": [
    "from sklearn.ensemble import RandomForestClassifier\n",
    "\n",
    "# Select the categorical columns\n",
    "categorical_columns = ['country', 'location_type', 'cellphone_access',\n",
    "                       'gender_of_respondent', 'relationship_with_head',\n",
    "                       'marital_status', 'education_level', 'job_type']\n",
    "\n",
    "# One-hot encode the categorical columns\n",
    "encoded_df = pd.get_dummies(df[categorical_columns])\n",
    "\n",
    "# Create the target variable\n",
    "target = df['bank_account']\n",
    "\n",
    "# Train a random forest classifier\n",
    "rf = RandomForestClassifier()\n",
    "rf.fit(encoded_df, target)\n",
    "\n",
    "# Get feature importances\n",
    "feature_importances = rf.feature_importances_\n",
    "\n",
    "# Create a DataFrame with feature names and importances\n",
    "feature_scores = pd.DataFrame({'Feature': encoded_df.columns, 'Importance': feature_importances})\n",
    "\n",
    "# Sort the features by importance in descending order\n",
    "feature_scores = feature_scores.sort_values(by='Importance', ascending=False)\n",
    "\n",
    "# Print the features and their importances\n",
    "print(feature_scores)"
   ]
  },
  {
   "attachments": {},
   "cell_type": "markdown",
   "metadata": {},
   "source": [
    "### LASSO Regression"
   ]
  },
  {
   "cell_type": "code",
   "execution_count": 11,
   "metadata": {},
   "outputs": [
    {
     "name": "stderr",
     "output_type": "stream",
     "text": [
      "/Users/christianhaberkorn/neuefische/Financial-Inclusion-Project/.venv/lib/python3.11/site-packages/sklearn/preprocessing/_encoders.py:868: FutureWarning: `sparse` was renamed to `sparse_output` in version 1.2 and will be removed in 1.4. `sparse_output` is ignored unless you leave `sparse` to its default value.\n",
      "  warnings.warn(\n"
     ]
    },
    {
     "name": "stdout",
     "output_type": "stream",
     "text": [
      "                                            Feature  Coefficient   \n",
      "21              education_level_No formal education    -2.333983  \\\n",
      "6                               cellphone_access_No    -1.744520   \n",
      "23                education_level_Primary education    -1.651080   \n",
      "29            job_type_Formally employed Government     1.283055   \n",
      "3                                    country_Uganda    -1.084932   \n",
      "30               job_type_Formally employed Private     1.056519   \n",
      "31                    job_type_Government Dependent     1.032054   \n",
      "33                               job_type_No Income    -1.002302   \n",
      "32                     job_type_Informally employed    -0.848613   \n",
      "11         relationship_with_head_Head of Household     0.847375   \n",
      "2                                  country_Tanzania    -0.767517   \n",
      "24              education_level_Secondary education    -0.720220   \n",
      "35                    job_type_Remittance Dependent    -0.654108   \n",
      "15                    relationship_with_head_Spouse     0.642409   \n",
      "25               education_level_Tertiary education     0.640434   \n",
      "28                     job_type_Farming and Fishing    -0.498403   \n",
      "8                       gender_of_respondent_Female    -0.444813   \n",
      "0                                     country_Kenya     0.384394   \n",
      "34                            job_type_Other Income     0.352300   \n",
      "26  education_level_Vocational/Specialised training     0.345024   \n",
      "4                               location_type_Rural    -0.278097   \n",
      "19              marital_status_Single/Never Married    -0.257394   \n",
      "16                marital_status_Divorced/Seperated    -0.225944   \n",
      "10                     relationship_with_head_Child    -0.124431   \n",
      "14                    relationship_with_head_Parent    -0.108401   \n",
      "20                           marital_status_Widowed     0.096654   \n",
      "36                           job_type_Self employed    -0.005387   \n",
      "27              job_type_Dont Know/Refuse to answer     0.000000   \n",
      "22              education_level_Other/Dont know/RTA     0.000000   \n",
      "1                                    country_Rwanda     0.000000   \n",
      "17                         marital_status_Dont know     0.000000   \n",
      "13            relationship_with_head_Other relative     0.000000   \n",
      "12       relationship_with_head_Other non-relatives     0.000000   \n",
      "9                         gender_of_respondent_Male     0.000000   \n",
      "7                              cellphone_access_Yes     0.000000   \n",
      "5                               location_type_Urban     0.000000   \n",
      "18           marital_status_Married/Living together     0.000000   \n",
      "\n",
      "    Absolute Coefficient  \n",
      "21              2.333983  \n",
      "6               1.744520  \n",
      "23              1.651080  \n",
      "29              1.283055  \n",
      "3               1.084932  \n",
      "30              1.056519  \n",
      "31              1.032054  \n",
      "33              1.002302  \n",
      "32              0.848613  \n",
      "11              0.847375  \n",
      "2               0.767517  \n",
      "24              0.720220  \n",
      "35              0.654108  \n",
      "15              0.642409  \n",
      "25              0.640434  \n",
      "28              0.498403  \n",
      "8               0.444813  \n",
      "0               0.384394  \n",
      "34              0.352300  \n",
      "26              0.345024  \n",
      "4               0.278097  \n",
      "19              0.257394  \n",
      "16              0.225944  \n",
      "10              0.124431  \n",
      "14              0.108401  \n",
      "20              0.096654  \n",
      "36              0.005387  \n",
      "27              0.000000  \n",
      "22              0.000000  \n",
      "1               0.000000  \n",
      "17              0.000000  \n",
      "13              0.000000  \n",
      "12              0.000000  \n",
      "9               0.000000  \n",
      "7               0.000000  \n",
      "5               0.000000  \n",
      "18              0.000000  \n"
     ]
    }
   ],
   "source": [
    "from sklearn.linear_model import LogisticRegression\n",
    "from sklearn.preprocessing import OneHotEncoder\n",
    "\n",
    "# Select the categorical columns\n",
    "categorical_columns = ['country', 'location_type', 'cellphone_access',\n",
    "                       'gender_of_respondent', 'relationship_with_head',\n",
    "                       'marital_status', 'education_level', 'job_type']\n",
    "\n",
    "# One-hot encode the categorical columns\n",
    "encoder = OneHotEncoder(sparse=False)\n",
    "encoded_features = encoder.fit_transform(df[categorical_columns])\n",
    "\n",
    "# Create the target variable\n",
    "target = df['bank_account']\n",
    "\n",
    "# Fit LASSO logistic regression\n",
    "lasso = LogisticRegression(penalty='l1', solver='liblinear')\n",
    "lasso.fit(encoded_features, target)\n",
    "\n",
    "# Get feature names and coefficients\n",
    "feature_names = encoder.get_feature_names_out(categorical_columns)\n",
    "feature_coefficients = lasso.coef_[0]\n",
    "\n",
    "# Create a DataFrame with feature names and coefficients\n",
    "feature_scores = pd.DataFrame({'Feature': feature_names, 'Coefficient': feature_coefficients})\n",
    "\n",
    "# Sort the features by absolute coefficient values in descending order\n",
    "feature_scores['Absolute Coefficient'] = feature_scores['Coefficient'].abs()\n",
    "feature_scores = feature_scores.sort_values(by='Absolute Coefficient', ascending=False)\n",
    "\n",
    "# Print the features and their coefficients\n",
    "print(feature_scores)"
   ]
  }
 ],
 "metadata": {
  "kernelspec": {
   "display_name": ".venv",
   "language": "python",
   "name": "python3"
  },
  "language_info": {
   "codemirror_mode": {
    "name": "ipython",
    "version": 3
   },
   "file_extension": ".py",
   "mimetype": "text/x-python",
   "name": "python",
   "nbconvert_exporter": "python",
   "pygments_lexer": "ipython3",
   "version": "3.11.3"
  },
  "orig_nbformat": 4
 },
 "nbformat": 4,
 "nbformat_minor": 2
}
