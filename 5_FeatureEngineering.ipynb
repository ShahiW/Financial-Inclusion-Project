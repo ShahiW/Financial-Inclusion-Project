{
 "cells": [
  {
   "cell_type": "code",
   "execution_count": 146,
   "metadata": {},
   "outputs": [],
   "source": [
    "import pandas as pd"
   ]
  },
  {
   "cell_type": "code",
   "execution_count": 147,
   "metadata": {},
   "outputs": [],
   "source": [
    "df = pd.read_csv('data/data.csv')\n",
    "df.dropna(axis=0, inplace=True)\n",
    "\n",
    "\n",
    "df.replace([\"Yes\",'No'],[1,0], inplace=True)\n",
    "#df.replace({'Yes':1, 'No':0}, inplace = True)\n",
    "\n",
    "# display (df.iloc[1:2,2:10].T)  #bei iloc kann man die Ziffer nehmen, startet von 0 weg.\n",
    "# df.loc[10086:12000,['country', 'cellphone_access']]   #Bei loc muss man Index und Spaltenname nehmen\n"
   ]
  },
  {
   "cell_type": "code",
   "execution_count": 148,
   "metadata": {},
   "outputs": [
    {
     "data": {
      "text/html": [
       "<div>\n",
       "<style scoped>\n",
       "    .dataframe tbody tr th:only-of-type {\n",
       "        vertical-align: middle;\n",
       "    }\n",
       "\n",
       "    .dataframe tbody tr th {\n",
       "        vertical-align: top;\n",
       "    }\n",
       "\n",
       "    .dataframe thead th {\n",
       "        text-align: right;\n",
       "    }\n",
       "</style>\n",
       "<table border=\"1\" class=\"dataframe\">\n",
       "  <thead>\n",
       "    <tr style=\"text-align: right;\">\n",
       "      <th></th>\n",
       "      <th>country</th>\n",
       "      <th>year</th>\n",
       "      <th>uniqueid</th>\n",
       "      <th>location_type</th>\n",
       "      <th>cellphone_access</th>\n",
       "      <th>household_size</th>\n",
       "      <th>age_of_respondent</th>\n",
       "      <th>gender_of_respondent</th>\n",
       "      <th>relationship_with_head</th>\n",
       "      <th>marital_status</th>\n",
       "      <th>education_level</th>\n",
       "      <th>job_type</th>\n",
       "      <th>bank_account</th>\n",
       "    </tr>\n",
       "  </thead>\n",
       "  <tbody>\n",
       "    <tr>\n",
       "      <th>10086</th>\n",
       "      <td>Kenya</td>\n",
       "      <td>2018</td>\n",
       "      <td>uniqueid_1</td>\n",
       "      <td>Rural</td>\n",
       "      <td>1</td>\n",
       "      <td>3</td>\n",
       "      <td>24</td>\n",
       "      <td>Female</td>\n",
       "      <td>Spouse</td>\n",
       "      <td>Married/Living together</td>\n",
       "      <td>Secondary education</td>\n",
       "      <td>Self employed</td>\n",
       "      <td>1</td>\n",
       "    </tr>\n",
       "    <tr>\n",
       "      <th>10087</th>\n",
       "      <td>Kenya</td>\n",
       "      <td>2018</td>\n",
       "      <td>uniqueid_2</td>\n",
       "      <td>Rural</td>\n",
       "      <td>0</td>\n",
       "      <td>5</td>\n",
       "      <td>70</td>\n",
       "      <td>Female</td>\n",
       "      <td>Head of Household</td>\n",
       "      <td>Widowed</td>\n",
       "      <td>No formal education</td>\n",
       "      <td>Government Dependent</td>\n",
       "      <td>0</td>\n",
       "    </tr>\n",
       "    <tr>\n",
       "      <th>10088</th>\n",
       "      <td>Kenya</td>\n",
       "      <td>2018</td>\n",
       "      <td>uniqueid_3</td>\n",
       "      <td>Urban</td>\n",
       "      <td>1</td>\n",
       "      <td>5</td>\n",
       "      <td>26</td>\n",
       "      <td>Male</td>\n",
       "      <td>Other relative</td>\n",
       "      <td>Single/Never Married</td>\n",
       "      <td>Vocational/Specialised training</td>\n",
       "      <td>Self employed</td>\n",
       "      <td>1</td>\n",
       "    </tr>\n",
       "    <tr>\n",
       "      <th>10089</th>\n",
       "      <td>Kenya</td>\n",
       "      <td>2018</td>\n",
       "      <td>uniqueid_4</td>\n",
       "      <td>Rural</td>\n",
       "      <td>1</td>\n",
       "      <td>5</td>\n",
       "      <td>34</td>\n",
       "      <td>Female</td>\n",
       "      <td>Head of Household</td>\n",
       "      <td>Married/Living together</td>\n",
       "      <td>Primary education</td>\n",
       "      <td>Formally employed Private</td>\n",
       "      <td>0</td>\n",
       "    </tr>\n",
       "    <tr>\n",
       "      <th>10090</th>\n",
       "      <td>Kenya</td>\n",
       "      <td>2018</td>\n",
       "      <td>uniqueid_5</td>\n",
       "      <td>Urban</td>\n",
       "      <td>0</td>\n",
       "      <td>8</td>\n",
       "      <td>26</td>\n",
       "      <td>Male</td>\n",
       "      <td>Child</td>\n",
       "      <td>Single/Never Married</td>\n",
       "      <td>Primary education</td>\n",
       "      <td>Informally employed</td>\n",
       "      <td>0</td>\n",
       "    </tr>\n",
       "  </tbody>\n",
       "</table>\n",
       "</div>"
      ],
      "text/plain": [
       "      country  year    uniqueid location_type  cellphone_access   \n",
       "10086   Kenya  2018  uniqueid_1         Rural                 1  \\\n",
       "10087   Kenya  2018  uniqueid_2         Rural                 0   \n",
       "10088   Kenya  2018  uniqueid_3         Urban                 1   \n",
       "10089   Kenya  2018  uniqueid_4         Rural                 1   \n",
       "10090   Kenya  2018  uniqueid_5         Urban                 0   \n",
       "\n",
       "       household_size  age_of_respondent gender_of_respondent   \n",
       "10086               3                 24               Female  \\\n",
       "10087               5                 70               Female   \n",
       "10088               5                 26                 Male   \n",
       "10089               5                 34               Female   \n",
       "10090               8                 26                 Male   \n",
       "\n",
       "      relationship_with_head           marital_status   \n",
       "10086                 Spouse  Married/Living together  \\\n",
       "10087      Head of Household                  Widowed   \n",
       "10088         Other relative     Single/Never Married   \n",
       "10089      Head of Household  Married/Living together   \n",
       "10090                  Child     Single/Never Married   \n",
       "\n",
       "                       education_level                   job_type   \n",
       "10086              Secondary education              Self employed  \\\n",
       "10087              No formal education       Government Dependent   \n",
       "10088  Vocational/Specialised training              Self employed   \n",
       "10089                Primary education  Formally employed Private   \n",
       "10090                Primary education        Informally employed   \n",
       "\n",
       "       bank_account  \n",
       "10086             1  \n",
       "10087             0  \n",
       "10088             1  \n",
       "10089             0  \n",
       "10090             0  "
      ]
     },
     "execution_count": 148,
     "metadata": {},
     "output_type": "execute_result"
    }
   ],
   "source": [
    "df.head()"
   ]
  },
  {
   "cell_type": "code",
   "execution_count": 149,
   "metadata": {},
   "outputs": [
    {
     "data": {
      "text/plain": [
       "<Axes: xlabel='country', ylabel='bank_account'>"
      ]
     },
     "execution_count": 149,
     "metadata": {},
     "output_type": "execute_result"
    },
    {
     "data": {
      "image/png": "[encoded data removed]",
      "text/plain": [
       "<Figure size 640x480 with 1 Axes>"
      ]
     },
     "metadata": {},
     "output_type": "display_data"
    }
   ],
   "source": [
    "#sns.barplot(data=df,x='country', y = 'bank_account', hue = 'location_type')\n",
    "sns.barplot(data=df,x='country', y = 'bank_account', hue = 'gender_of_respondent')"
   ]
  },
  {
   "cell_type": "code",
   "execution_count": 151,
   "metadata": {},
   "outputs": [
    {
     "ename": "NameError",
     "evalue": "name 'train' is not defined",
     "output_type": "error",
     "traceback": [
      "\u001b[0;31m---------------------------------------------------------------------------\u001b[0m",
      "\u001b[0;31mNameError\u001b[0m                                 Traceback (most recent call last)",
      "Cell \u001b[0;32mIn[151], line 2\u001b[0m\n\u001b[1;32m      1\u001b[0m \u001b[39m# Make bins for age in train\u001b[39;00m\n\u001b[0;32m----> 2\u001b[0m age_bins \u001b[39m=\u001b[39m pd\u001b[39m.\u001b[39mcut(train[\u001b[39m'\u001b[39m\u001b[39mage_of_respondent\u001b[39m\u001b[39m'\u001b[39m], [\u001b[39m0\u001b[39m, \u001b[39m16\u001b[39m, \u001b[39m45\u001b[39m, \u001b[39m75\u001b[39m, \u001b[39m100\u001b[39m], labels\u001b[39m=\u001b[39m[\u001b[39m'\u001b[39m\u001b[39mchild\u001b[39m\u001b[39m'\u001b[39m, \u001b[39m'\u001b[39m\u001b[39madult\u001b[39m\u001b[39m'\u001b[39m, \u001b[39m'\u001b[39m\u001b[39melder\u001b[39m\u001b[39m'\u001b[39m, \u001b[39m'\u001b[39m\u001b[39mold\u001b[39m\u001b[39m'\u001b[39m])\n\u001b[1;32m      3\u001b[0m age_bins\u001b[39m.\u001b[39mname \u001b[39m=\u001b[39m \u001b[39m'\u001b[39m\u001b[39mages\u001b[39m\u001b[39m'\u001b[39m\n\u001b[1;32m      5\u001b[0m train \u001b[39m=\u001b[39m train\u001b[39m.\u001b[39mjoin(age_bins, how\u001b[39m=\u001b[39m\u001b[39m'\u001b[39m\u001b[39minner\u001b[39m\u001b[39m'\u001b[39m)\n",
      "\u001b[0;31mNameError\u001b[0m: name 'train' is not defined"
     ]
    }
   ],
   "source": [
    "# Make bins for age in train\n",
    "age_bins = pd.cut(train['age_of_respondent'], [0, 16, 45, 75, 100], labels=['child', 'adult', 'elder', 'old'])\n",
    "age_bins.name = 'ages'\n",
    "\n",
    "train = train.join(age_bins, how='inner')\n",
    "train = train.drop('age_of_respondent', axis=1)\n",
    "train.head()"
   ]
  }
 ],
 "metadata": {
  "kernelspec": {
   "display_name": ".venv",
   "language": "python",
   "name": "python3"
  },
  "language_info": {
   "codemirror_mode": {
    "name": "ipython",
    "version": 3
   },
   "file_extension": ".py",
   "mimetype": "text/x-python",
   "name": "python",
   "nbconvert_exporter": "python",
   "pygments_lexer": "ipython3",
   "version": "3.11.3"
  },
  "orig_nbformat": 4
 },
 "nbformat": 4,
 "nbformat_minor": 2
}
