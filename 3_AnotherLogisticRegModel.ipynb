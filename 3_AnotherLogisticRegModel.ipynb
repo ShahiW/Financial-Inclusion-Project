{
 "cells": [
  {
   "cell_type": "code",
   "execution_count": 19,
   "metadata": {},
   "outputs": [],
   "source": [
    "import pandas as pd\n",
    "import numpy as np\n",
    "import matplotlib.pyplot as plt\n",
    "import seaborn as sns\n",
    "import plotly.express as px\n",
    "from sklearn.linear_model import LogisticRegression, SGDClassifier\n",
    "from sklearn.metrics import accuracy_score \n",
    "from sklearn.metrics import mean_absolute_error\n",
    "from sklearn.model_selection import train_test_split\n",
    "import imblearn\n",
    "from sklearn.linear_model import LogisticRegression, SGDClassifier\n",
    "from sklearn.metrics import accuracy_score \n",
    "from sklearn import preprocessing"
   ]
  },
  {
   "cell_type": "code",
   "execution_count": 20,
   "metadata": {},
   "outputs": [],
   "source": [
    "df = pd.read_csv('data/data.csv')"
   ]
  },
  {
   "cell_type": "code",
   "execution_count": 21,
   "metadata": {},
   "outputs": [
    {
     "data": {
      "text/plain": [
       "(23524, 13)"
      ]
     },
     "execution_count": 21,
     "metadata": {},
     "output_type": "execute_result"
    }
   ],
   "source": [
    "# create a new data frame without the NaN in our target feature\n",
    "df.dropna(axis=0, inplace=True)\n",
    "df.shape"
   ]
  },
  {
   "cell_type": "code",
   "execution_count": 22,
   "metadata": {},
   "outputs": [
    {
     "name": "stdout",
     "output_type": "stream",
     "text": [
      "X_train: (17643, 12)\n",
      "y_train: (17643,)\n",
      "X_test: (5881, 12)\n",
      "y_test: (5881,)\n"
     ]
    }
   ],
   "source": [
    "# erst train - test - split, dann remove imbalance of data;\n",
    "\n",
    "# Defining X and y\n",
    "features = df.columns.tolist()\n",
    "features.remove('bank_account')\n",
    "\n",
    "X = df[features]\n",
    "y = df.bank_account\n",
    "\n",
    "# Splitting the dataset\n",
    "X_train, X_test, y_train, y_test = train_test_split(X, y, random_state=42, shuffle=True)\n",
    "\n",
    "# Check the shape of the data sets\n",
    "print(\"X_train:\", X_train.shape)\n",
    "print(\"y_train:\", y_train.shape)\n",
    "print(\"X_test:\", X_test.shape)\n",
    "print(\"y_test:\", y_test.shape)"
   ]
  },
  {
   "cell_type": "code",
   "execution_count": 23,
   "metadata": {},
   "outputs": [
    {
     "name": "stdout",
     "output_type": "stream",
     "text": [
      "2501 2501\n"
     ]
    }
   ],
   "source": [
    "#Undersampling\n",
    "undersample = imblearn.under_sampling.RandomUnderSampler(sampling_strategy='majority')\n",
    "X_train_under, y_train_under = undersample.fit_resample(X_train, y_train)\n",
    "\n",
    "count_yes, count_no = 0, 0\n",
    "\n",
    "for i in y_train_under:\n",
    "    if i == 'Yes': \n",
    "        count_yes += 1\n",
    "    if i == 'No': \n",
    "        count_no += 1\n",
    "print (count_yes, count_no)"
   ]
  },
  {
   "cell_type": "code",
   "execution_count": 43,
   "metadata": {},
   "outputs": [
    {
     "data": {
      "text/plain": [
       "(5002, 12)"
      ]
     },
     "metadata": {},
     "output_type": "display_data"
    },
    {
     "data": {
      "text/plain": [
       "(5002,)"
      ]
     },
     "metadata": {},
     "output_type": "display_data"
    }
   ],
   "source": [
    "# Encode categorical features\n",
    "\n",
    "enc = preprocessing.OrdinalEncoder()\n",
    "X_train_fitted_transformed = enc.fit_transform(X_train_under)\n",
    "X_test_fitted_transformed = enc.fit_transform(X_test)\n",
    "display (X_train_fitted_transformed.shape, y_train_under.shape)\n"
   ]
  },
  {
   "cell_type": "code",
   "execution_count": 50,
   "metadata": {},
   "outputs": [
    {
     "name": "stdout",
     "output_type": "stream",
     "text": [
      "Accuracy on train set: 0.74\n",
      "Accuracy on test set: 0.74\n",
      "--------------------------------------------------------------------------------\n",
      "Mean absolute error on train set: 0.26\n",
      "Mean absolute error on test set: 0.26\n",
      "--------------------------------------------------------------------------------\n"
     ]
    }
   ],
   "source": [
    "### Using Logistic regression using non-scaled data\n",
    "\n",
    "# Logistic Regression without the id field\n",
    "log_reg = LogisticRegression(max_iter=1000)\n",
    "log_reg.fit(X_train_fitted_transformed, y_train_under)\n",
    "\n",
    "y_pred_train = log_reg.predict(X_train_fitted_transformed)\n",
    "y_pred = log_reg.predict(X_test_fitted_transformed)\n",
    "\n",
    "# Print accuracy of our model\n",
    "print(\"Accuracy on train set:\", round(accuracy_score(y_train_under, y_pred_train), 2))\n",
    "print(\"Accuracy on test set:\", round(accuracy_score(y_test, y_pred), 2))\n",
    "print(\"--------\"*10)\n",
    "# Print MAE of our model\n",
    "print(\"Mean absolute error on train set:\", 1 - round(accuracy_score(y_train_under, y_pred_train), 2))\n",
    "print(\"Mean absolute error on test set:\", 1 - round(accuracy_score(y_test, y_pred), 2))\n",
    "print(\"--------\"*10)"
   ]
  }
 ],
 "metadata": {
  "kernelspec": {
   "display_name": ".venv",
   "language": "python",
   "name": "python3"
  },
  "language_info": {
   "codemirror_mode": {
    "name": "ipython",
    "version": 3
   },
   "file_extension": ".py",
   "mimetype": "text/x-python",
   "name": "python",
   "nbconvert_exporter": "python",
   "pygments_lexer": "ipython3",
   "version": "3.11.3"
  },
  "orig_nbformat": 4
 },
 "nbformat": 4,
 "nbformat_minor": 2
}
