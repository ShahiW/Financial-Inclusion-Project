{
 "cells": [
  {
   "cell_type": "code",
   "execution_count": null,
   "metadata": {},
   "outputs": [],
   "source": [
    "import pandas as pd\n",
    "import numpy as np\n",
    "import matplotlib.pyplot as plt\n",
    "import seaborn as sns\n",
    "import plotly.express as px"
   ]
  },
  {
   "cell_type": "code",
   "execution_count": null,
   "metadata": {},
   "outputs": [],
   "source": [
    "df = pd.read_csv('data/data.csv')"
   ]
  },
  {
   "cell_type": "code",
   "execution_count": null,
   "metadata": {},
   "outputs": [],
   "source": [
    "# View the first few records\n",
    "df.head()"
   ]
  },
  {
   "cell_type": "code",
   "execution_count": null,
   "metadata": {},
   "outputs": [],
   "source": [
    "# Get information about the dataset\n",
    "df.info()"
   ]
  },
  {
   "cell_type": "code",
   "execution_count": null,
   "metadata": {},
   "outputs": [],
   "source": [
    "# Statistical summary of the dataset\n",
    "df.describe()"
   ]
  },
  {
   "cell_type": "code",
   "execution_count": null,
   "metadata": {},
   "outputs": [],
   "source": [
    "# checking for spaces in\n",
    "print(df.columns)"
   ]
  },
  {
   "cell_type": "code",
   "execution_count": null,
   "metadata": {},
   "outputs": [],
   "source": [
    "# Check for missing values\n",
    "df.isnull().sum()"
   ]
  },
  {
   "cell_type": "code",
   "execution_count": null,
   "metadata": {},
   "outputs": [],
   "source": [
    "# check for unique values in column bank_account\n",
    "df['bank_account'].unique()"
   ]
  },
  {
   "cell_type": "code",
   "execution_count": null,
   "metadata": {},
   "outputs": [],
   "source": [
    "# create a new data frame without the NaN in our target feature\n",
    "df_wo_target_nan = df.dropna(axis=0)"
   ]
  },
  {
   "cell_type": "code",
   "execution_count": null,
   "metadata": {},
   "outputs": [],
   "source": [
    "df_wo_target_nan.info()"
   ]
  },
  {
   "cell_type": "code",
   "execution_count": null,
   "metadata": {},
   "outputs": [],
   "source": [
    "df_wo_target_nan.describe()"
   ]
  },
  {
   "cell_type": "code",
   "execution_count": null,
   "metadata": {},
   "outputs": [],
   "source": [
    "df_wo_target_nan.head().T"
   ]
  },
  {
   "cell_type": "code",
   "execution_count": null,
   "metadata": {},
   "outputs": [],
   "source": [
    "for column in df_wo_target_nan.columns:\n",
    "    unique_values = df_wo_target_nan[column].unique()\n",
    "    print(f\"Column '{column}' has {len(unique_values)} unique value(s):\")\n",
    "    print(unique_values)\n",
    "    print()"
   ]
  },
  {
   "cell_type": "code",
   "execution_count": null,
   "metadata": {},
   "outputs": [],
   "source": [
    "from scipy.stats import chi2_contingency"
   ]
  },
  {
   "attachments": {},
   "cell_type": "markdown",
   "metadata": {},
   "source": [
    "### Try to find out if there is a relation between the features (which contains objects) and our target feature, using the \"Cramers V\"\n",
    "\n",
    "#### Small Effect: \n",
    "Cramér's V values close to 0 indicate a weak or negligible association between the categorical variables.\n",
    "\n",
    "#### Medium Effect: \n",
    "Cramér's V values around 0.1 to 0.3 suggest a moderate association. This indicates that the variables have some degree of dependency, but the association may not be very strong.\n",
    "\n",
    "#### Large Effect: \n",
    "Cramér's V values close to 0.3 or higher indicate a relatively strong association between the categorical variables. This suggests a notable dependency or relationship between the variables."
   ]
  },
  {
   "cell_type": "code",
   "execution_count": null,
   "metadata": {},
   "outputs": [],
   "source": [
    "# country vs bank_account\n",
    "\n",
    "column_name = 'country'\n",
    "target_column = 'bank_account'\n",
    "\n",
    "# Create a contingency table\n",
    "contingency_table = pd.crosstab(df_wo_target_nan[column_name], df_wo_target_nan[target_column])\n",
    "\n",
    "# Perform chi-square test\n",
    "chi2, p, _, _ = chi2_contingency(contingency_table)\n",
    "\n",
    "# Calculate Cramér's V\n",
    "n = len(df_wo_target_nan)\n",
    "cramers_v = np.sqrt(chi2 / (n * (min(contingency_table.shape) - 1)))\n",
    "\n",
    "print(\"Chi-square:\", chi2)\n",
    "print(\"p-value:\", p)\n",
    "print(\"Cramér's V:\", cramers_v)"
   ]
  },
  {
   "cell_type": "code",
   "execution_count": null,
   "metadata": {},
   "outputs": [],
   "source": [
    "# year vs bank_account\n",
    "\n",
    "column_name = 'year'\n",
    "target_column = 'bank_account'\n",
    "\n",
    "# Create a contingency table\n",
    "contingency_table = pd.crosstab(df_wo_target_nan[column_name], df_wo_target_nan[target_column])\n",
    "\n",
    "# Perform chi-square test\n",
    "chi2, p, _, _ = chi2_contingency(contingency_table)\n",
    "\n",
    "# Calculate Cramér's V\n",
    "n = len(df_wo_target_nan)\n",
    "cramers_v = np.sqrt(chi2 / (n * (min(contingency_table.shape) - 1)))\n",
    "\n",
    "print(\"Chi-square:\", chi2)\n",
    "print(\"p-value:\", p)\n",
    "print(\"Cramér's V:\", cramers_v)"
   ]
  },
  {
   "cell_type": "code",
   "execution_count": null,
   "metadata": {},
   "outputs": [],
   "source": [
    "# household_size vs bank_account\n",
    "\n",
    "column_name = 'household_size'\n",
    "target_column = 'bank_account'\n",
    "\n",
    "# Create a contingency table\n",
    "contingency_table = pd.crosstab(df_wo_target_nan[column_name], df_wo_target_nan[target_column])\n",
    "\n",
    "# Perform chi-square test\n",
    "chi2, p, _, _ = chi2_contingency(contingency_table)\n",
    "\n",
    "# Calculate Cramér's V\n",
    "n = len(df_wo_target_nan)\n",
    "cramers_v = np.sqrt(chi2 / (n * (min(contingency_table.shape) - 1)))\n",
    "\n",
    "print(\"Chi-square:\", chi2)\n",
    "print(\"p-value:\", p)\n",
    "print(\"Cramér's V:\", cramers_v)"
   ]
  },
  {
   "cell_type": "code",
   "execution_count": null,
   "metadata": {},
   "outputs": [],
   "source": [
    "# age_of_respondent vs bank_account\n",
    "\n",
    "column_name = 'age_of_respondent'\n",
    "target_column = 'bank_account'\n",
    "\n",
    "# Create a contingency table\n",
    "contingency_table = pd.crosstab(df_wo_target_nan[column_name], df_wo_target_nan[target_column])\n",
    "\n",
    "# Perform chi-square test\n",
    "chi2, p, _, _ = chi2_contingency(contingency_table)\n",
    "\n",
    "# Calculate Cramér's V\n",
    "n = len(df_wo_target_nan)\n",
    "cramers_v = np.sqrt(chi2 / (n * (min(contingency_table.shape) - 1)))\n",
    "\n",
    "print(\"Chi-square:\", chi2)\n",
    "print(\"p-value:\", p)\n",
    "print(\"Cramér's V:\", cramers_v)"
   ]
  },
  {
   "cell_type": "code",
   "execution_count": null,
   "metadata": {},
   "outputs": [],
   "source": [
    "# relationship_with_head vs bank_account\n",
    "\n",
    "column_name = 'relationship_with_head'\n",
    "target_column = 'bank_account'\n",
    "\n",
    "# Create a contingency table\n",
    "contingency_table = pd.crosstab(df_wo_target_nan[column_name], df_wo_target_nan[target_column])\n",
    "\n",
    "# Perform chi-square test\n",
    "chi2, p, _, _ = chi2_contingency(contingency_table)\n",
    "\n",
    "# Calculate Cramér's V\n",
    "n = len(df_wo_target_nan)\n",
    "cramers_v = np.sqrt(chi2 / (n * (min(contingency_table.shape) - 1)))\n",
    "\n",
    "print(\"Chi-square:\", chi2)\n",
    "print(\"p-value:\", p)\n",
    "print(\"Cramér's V:\", cramers_v)"
   ]
  },
  {
   "cell_type": "code",
   "execution_count": null,
   "metadata": {},
   "outputs": [],
   "source": [
    "# marital_status vs bank_account\n",
    "\n",
    "column_name = 'marital_status'\n",
    "target_column = 'bank_account'\n",
    "\n",
    "# Create a contingency table\n",
    "contingency_table = pd.crosstab(df_wo_target_nan[column_name], df_wo_target_nan[target_column])\n",
    "\n",
    "# Perform chi-square test\n",
    "chi2, p, _, _ = chi2_contingency(contingency_table)\n",
    "\n",
    "# Calculate Cramér's V\n",
    "n = len(df_wo_target_nan)\n",
    "cramers_v = np.sqrt(chi2 / (n * (min(contingency_table.shape) - 1)))\n",
    "\n",
    "print(\"Chi-square:\", chi2)\n",
    "print(\"p-value:\", p)\n",
    "print(\"Cramér's V:\", cramers_v)"
   ]
  },
  {
   "cell_type": "code",
   "execution_count": null,
   "metadata": {},
   "outputs": [],
   "source": [
    "# education_level vs bank_account\n",
    "\n",
    "column_name = 'education_level'\n",
    "target_column = 'bank_account'\n",
    "\n",
    "# Create a contingency table\n",
    "contingency_table = pd.crosstab(df_wo_target_nan[column_name], df_wo_target_nan[target_column])\n",
    "\n",
    "# Perform chi-square test\n",
    "chi2, p, _, _ = chi2_contingency(contingency_table)\n",
    "\n",
    "# Calculate Cramér's V\n",
    "n = len(df_wo_target_nan)\n",
    "cramers_v = np.sqrt(chi2 / (n * (min(contingency_table.shape) - 1)))\n",
    "\n",
    "print(\"Chi-square:\", chi2)\n",
    "print(\"p-value:\", p)\n",
    "print(\"Cramér's V:\", cramers_v)"
   ]
  },
  {
   "cell_type": "code",
   "execution_count": null,
   "metadata": {},
   "outputs": [],
   "source": [
    "# job_type vs bank_account\n",
    "\n",
    "column_name = 'job_type'\n",
    "target_column = 'bank_account'\n",
    "\n",
    "# Create a contingency table\n",
    "contingency_table = pd.crosstab(df_wo_target_nan[column_name], df_wo_target_nan[target_column])\n",
    "\n",
    "# Perform chi-square test\n",
    "chi2, p, _, _ = chi2_contingency(contingency_table)\n",
    "\n",
    "# Calculate Cramér's V\n",
    "n = len(df_wo_target_nan)\n",
    "cramers_v = np.sqrt(chi2 / (n * (min(contingency_table.shape) - 1)))\n",
    "\n",
    "print(\"Chi-square:\", chi2)\n",
    "print(\"p-value:\", p)\n",
    "print(\"Cramér's V:\", cramers_v)"
   ]
  },
  {
   "cell_type": "code",
   "execution_count": null,
   "metadata": {},
   "outputs": [],
   "source": [
    "# Initialize an empty matrix to store Cramér's V values\n",
    "n_columns = len(df_wo_target_nan.columns)\n",
    "cramers_matrix = np.zeros((n_columns, n_columns))\n",
    "\n",
    "# Iterate over each pair of columns\n",
    "for i in range(n_columns):\n",
    "    for j in range(n_columns):\n",
    "        # Create a contingency table for the column pair\n",
    "        contingency_table = pd.crosstab(df_wo_target_nan.iloc[:, i], df.iloc[:, j])\n",
    "        \n",
    "        # Perform the chi-square test and calculate Cramér's V\n",
    "        chi2, _, _, _ = chi2_contingency(contingency_table)\n",
    "        n = len(df_wo_target_nan)\n",
    "        cramers_v = np.sqrt(chi2 / (n * (min(contingency_table.shape) - 1)))\n",
    "        \n",
    "        # Store the Cramér's V value in the matrix\n",
    "        cramers_matrix[i, j] = cramers_v\n",
    "\n",
    "# Create a DataFrame from the matrix with column names as indices and columns\n",
    "cramers_df = pd.DataFrame(cramers_matrix, index=df_wo_target_nan.columns, columns=df_wo_target_nan.columns)\n",
    "\n",
    "print(cramers_df)"
   ]
  },
  {
   "cell_type": "code",
   "execution_count": null,
   "metadata": {},
   "outputs": [],
   "source": [
    "import pandas as pd\n",
    "import numpy as np\n",
    "from scipy.stats import chi2_contingency\n",
    "import seaborn as sns\n",
    "import matplotlib.pyplot as plt\n",
    "\n",
    "\n",
    "# Initialize an empty matrix to store Cramér's V values\n",
    "n_columns = len(df_wo_target_nan.columns)\n",
    "cramers_matrix = np.zeros((n_columns, n_columns))\n",
    "\n",
    "# Iterate over each pair of columns\n",
    "for i in range(n_columns):\n",
    "    for j in range(n_columns):\n",
    "        # Create a contingency table for the column pair\n",
    "        contingency_table = pd.crosstab(df_wo_target_nan.iloc[:, i], df.iloc[:, j])\n",
    "        \n",
    "        # Perform the chi-square test and calculate Cramér's V\n",
    "        chi2, _, _, _ = chi2_contingency(contingency_table)\n",
    "        n = len(df_wo_target_nan)\n",
    "        cramers_v = np.sqrt(chi2 / (n * (min(contingency_table.shape) - 1)))\n",
    "        \n",
    "        # Store the Cramér's V value in the matrix\n",
    "        cramers_matrix[i, j] = cramers_v\n",
    "\n",
    "# Create a DataFrame from the matrix with column names as indices and columns\n",
    "cramers_df = pd.DataFrame(cramers_matrix, index=df_wo_target_nan.columns, columns=df_wo_target_nan.columns)\n",
    "\n",
    "# Create a heatmap using Seaborn\n",
    "plt.figure(figsize=(10, 8))\n",
    "sns.heatmap(cramers_df, annot=True, fmt=\".2f\", cmap=\"crest\", square=True)\n",
    "plt.title(\"Cramér's V Heatmap\")\n",
    "plt.show()"
   ]
  },
  {
   "cell_type": "code",
   "execution_count": null,
   "metadata": {},
   "outputs": [],
   "source": [
    "'''                        bank_account  \n",
    "country                     0.188737  \n",
    "year                        0.144151  \n",
    "uniqueid                    0.594507  \n",
    "location_type               0.087163  \n",
    "cellphone_access            0.209529  \n",
    "household_size              0.068803  \n",
    "age_of_respondent           0.139979  \n",
    "gender_of_respondent        0.117110  \n",
    "relationship_with_head      0.118065  \n",
    "marital_status              0.090647  \n",
    "education_level             0.388423  \n",
    "job_type                    0.359027  \n",
    "bank_account                0.999824'''"
   ]
  }
 ],
 "metadata": {
  "kernelspec": {
   "display_name": ".venv",
   "language": "python",
   "name": "python3"
  },
  "language_info": {
   "codemirror_mode": {
    "name": "ipython",
    "version": 3
   },
   "file_extension": ".py",
   "mimetype": "text/x-python",
   "name": "python",
   "nbconvert_exporter": "python",
   "pygments_lexer": "ipython3",
   "version": "3.11.3"
  },
  "orig_nbformat": 4
 },
 "nbformat": 4,
 "nbformat_minor": 2
}
